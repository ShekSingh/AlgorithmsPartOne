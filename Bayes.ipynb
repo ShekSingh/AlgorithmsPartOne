{
  "nbformat": 4,
  "nbformat_minor": 0,
  "metadata": {
    "colab": {
      "provenance": [],
      "authorship_tag": "ABX9TyNmWnP80CHFHfLiulLGbw6O",
      "include_colab_link": true
    },
    "kernelspec": {
      "name": "python3",
      "display_name": "Python 3"
    },
    "language_info": {
      "name": "python"
    }
  },
  "cells": [
    {
      "cell_type": "markdown",
      "metadata": {
        "id": "view-in-github",
        "colab_type": "text"
      },
      "source": [
        "<a href=\"https://colab.research.google.com/github/ShekSingh/AlgorithmsPartOne/blob/master/Bayes.ipynb\" target=\"_parent\"><img src=\"https://colab.research.google.com/assets/colab-badge.svg\" alt=\"Open In Colab\"/></a>"
      ]
    },
    {
      "cell_type": "code",
      "source": [
        "import numpy as np\n",
        "import pandas as pd\n",
        "import numpy as np\n",
        "import scipy.stats as stats\n",
        "import matplotlib.pyplot as plt\n",
        "\n",
        "\n",
        "N = 1000\n",
        "np.random.seed(1)\n",
        "id = np.random.choice(range(1, 11), N)\n",
        "purchaseday = np.random.choice(range(1, 366), N)\n",
        "purchasedate = []\n",
        "\n",
        "months = [0,31,59,90,120,151,181,212,243,273,304,334]\n",
        "\n",
        "def makedate(x):\n",
        "    month = max([i for i in range(len(months)) if x > months[i]])\n",
        "    if month > 0:\n",
        "        day = x - months[month]\n",
        "    else:\n",
        "        day = x\n",
        "    return pd.to_datetime(\"2022-\"+str(month+1)+\"-\"+str(day))\n",
        "\n",
        "for i in range(N):\n",
        "    purchasedate.append(makedate(purchaseday[i]))\n",
        "\n",
        "\n"
      ],
      "metadata": {
        "id": "PdBb8_YGosSq"
      },
      "execution_count": 3,
      "outputs": []
    },
    {
      "cell_type": "code",
      "source": [
        "dat = pd.DataFrame({'id': id, 'purchasedate': purchasedate})\n",
        "dat2 = dat.sort_values(['id', 'purchasedate'])\n",
        "dat2['datediff'] = np.zeros(N)\n",
        "dat2['salecat'] = np.empty(N, dtype='str')\n",
        "\n",
        "\n",
        "for i in range(1, 11):\n",
        "    dat2i = dat2[dat2['id']==i]\n",
        "    datediff = np.diff(dat2i['purchasedate'])\n",
        "    salecat = np.where(datediff <= pd.Timedelta(days=2), 'daily',\n",
        "                       np.where(datediff <= pd.Timedelta(days=9), 'weekly',\n",
        "                                np.where(datediff <= pd.Timedelta(days=17), 'biweekly', 'monthly')))\n",
        "    dat2.loc[dat2['id']==i, 'datediff'] = np.concatenate(([0], pd.Series(datediff).dt.days))\n",
        "    dat2.loc[dat2['id']==i, 'salecat'] = np.concatenate((['new'], salecat))\n",
        "\n",
        "\n",
        "\n"
      ],
      "metadata": {
        "id": "_7A8OdOt9ejS"
      },
      "execution_count": 4,
      "outputs": []
    },
    {
      "cell_type": "code",
      "source": [
        "dat2.head()"
      ],
      "metadata": {
        "colab": {
          "base_uri": "https://localhost:8080/",
          "height": 206
        },
        "id": "F-2E2iqH9lZF",
        "outputId": "7df09a74-db06-4be2-f0e2-402d861f3408"
      },
      "execution_count": 5,
      "outputs": [
        {
          "output_type": "execute_result",
          "data": {
            "text/plain": [
              "     id purchasedate  datediff   salecat\n",
              "519   1   2022-01-01       0.0       new\n",
              "177   1   2022-01-03       2.0     daily\n",
              "251   1   2022-01-17      14.0  biweekly\n",
              "173   1   2022-01-18       1.0     daily\n",
              "245   1   2022-01-18       0.0     daily"
            ],
            "text/html": [
              "\n",
              "  <div id=\"df-e2fe4d71-0789-4e51-b111-fdc9e629f460\">\n",
              "    <div class=\"colab-df-container\">\n",
              "      <div>\n",
              "<style scoped>\n",
              "    .dataframe tbody tr th:only-of-type {\n",
              "        vertical-align: middle;\n",
              "    }\n",
              "\n",
              "    .dataframe tbody tr th {\n",
              "        vertical-align: top;\n",
              "    }\n",
              "\n",
              "    .dataframe thead th {\n",
              "        text-align: right;\n",
              "    }\n",
              "</style>\n",
              "<table border=\"1\" class=\"dataframe\">\n",
              "  <thead>\n",
              "    <tr style=\"text-align: right;\">\n",
              "      <th></th>\n",
              "      <th>id</th>\n",
              "      <th>purchasedate</th>\n",
              "      <th>datediff</th>\n",
              "      <th>salecat</th>\n",
              "    </tr>\n",
              "  </thead>\n",
              "  <tbody>\n",
              "    <tr>\n",
              "      <th>519</th>\n",
              "      <td>1</td>\n",
              "      <td>2022-01-01</td>\n",
              "      <td>0.0</td>\n",
              "      <td>new</td>\n",
              "    </tr>\n",
              "    <tr>\n",
              "      <th>177</th>\n",
              "      <td>1</td>\n",
              "      <td>2022-01-03</td>\n",
              "      <td>2.0</td>\n",
              "      <td>daily</td>\n",
              "    </tr>\n",
              "    <tr>\n",
              "      <th>251</th>\n",
              "      <td>1</td>\n",
              "      <td>2022-01-17</td>\n",
              "      <td>14.0</td>\n",
              "      <td>biweekly</td>\n",
              "    </tr>\n",
              "    <tr>\n",
              "      <th>173</th>\n",
              "      <td>1</td>\n",
              "      <td>2022-01-18</td>\n",
              "      <td>1.0</td>\n",
              "      <td>daily</td>\n",
              "    </tr>\n",
              "    <tr>\n",
              "      <th>245</th>\n",
              "      <td>1</td>\n",
              "      <td>2022-01-18</td>\n",
              "      <td>0.0</td>\n",
              "      <td>daily</td>\n",
              "    </tr>\n",
              "  </tbody>\n",
              "</table>\n",
              "</div>\n",
              "      <button class=\"colab-df-convert\" onclick=\"convertToInteractive('df-e2fe4d71-0789-4e51-b111-fdc9e629f460')\"\n",
              "              title=\"Convert this dataframe to an interactive table.\"\n",
              "              style=\"display:none;\">\n",
              "        \n",
              "  <svg xmlns=\"http://www.w3.org/2000/svg\" height=\"24px\"viewBox=\"0 0 24 24\"\n",
              "       width=\"24px\">\n",
              "    <path d=\"M0 0h24v24H0V0z\" fill=\"none\"/>\n",
              "    <path d=\"M18.56 5.44l.94 2.06.94-2.06 2.06-.94-2.06-.94-.94-2.06-.94 2.06-2.06.94zm-11 1L8.5 8.5l.94-2.06 2.06-.94-2.06-.94L8.5 2.5l-.94 2.06-2.06.94zm10 10l.94 2.06.94-2.06 2.06-.94-2.06-.94-.94-2.06-.94 2.06-2.06.94z\"/><path d=\"M17.41 7.96l-1.37-1.37c-.4-.4-.92-.59-1.43-.59-.52 0-1.04.2-1.43.59L10.3 9.45l-7.72 7.72c-.78.78-.78 2.05 0 2.83L4 21.41c.39.39.9.59 1.41.59.51 0 1.02-.2 1.41-.59l7.78-7.78 2.81-2.81c.8-.78.8-2.07 0-2.86zM5.41 20L4 18.59l7.72-7.72 1.47 1.35L5.41 20z\"/>\n",
              "  </svg>\n",
              "      </button>\n",
              "      \n",
              "  <style>\n",
              "    .colab-df-container {\n",
              "      display:flex;\n",
              "      flex-wrap:wrap;\n",
              "      gap: 12px;\n",
              "    }\n",
              "\n",
              "    .colab-df-convert {\n",
              "      background-color: #E8F0FE;\n",
              "      border: none;\n",
              "      border-radius: 50%;\n",
              "      cursor: pointer;\n",
              "      display: none;\n",
              "      fill: #1967D2;\n",
              "      height: 32px;\n",
              "      padding: 0 0 0 0;\n",
              "      width: 32px;\n",
              "    }\n",
              "\n",
              "    .colab-df-convert:hover {\n",
              "      background-color: #E2EBFA;\n",
              "      box-shadow: 0px 1px 2px rgba(60, 64, 67, 0.3), 0px 1px 3px 1px rgba(60, 64, 67, 0.15);\n",
              "      fill: #174EA6;\n",
              "    }\n",
              "\n",
              "    [theme=dark] .colab-df-convert {\n",
              "      background-color: #3B4455;\n",
              "      fill: #D2E3FC;\n",
              "    }\n",
              "\n",
              "    [theme=dark] .colab-df-convert:hover {\n",
              "      background-color: #434B5C;\n",
              "      box-shadow: 0px 1px 3px 1px rgba(0, 0, 0, 0.15);\n",
              "      filter: drop-shadow(0px 1px 2px rgba(0, 0, 0, 0.3));\n",
              "      fill: #FFFFFF;\n",
              "    }\n",
              "  </style>\n",
              "\n",
              "      <script>\n",
              "        const buttonEl =\n",
              "          document.querySelector('#df-e2fe4d71-0789-4e51-b111-fdc9e629f460 button.colab-df-convert');\n",
              "        buttonEl.style.display =\n",
              "          google.colab.kernel.accessAllowed ? 'block' : 'none';\n",
              "\n",
              "        async function convertToInteractive(key) {\n",
              "          const element = document.querySelector('#df-e2fe4d71-0789-4e51-b111-fdc9e629f460');\n",
              "          const dataTable =\n",
              "            await google.colab.kernel.invokeFunction('convertToInteractive',\n",
              "                                                     [key], {});\n",
              "          if (!dataTable) return;\n",
              "\n",
              "          const docLinkHtml = 'Like what you see? Visit the ' +\n",
              "            '<a target=\"_blank\" href=https://colab.research.google.com/notebooks/data_table.ipynb>data table notebook</a>'\n",
              "            + ' to learn more about interactive tables.';\n",
              "          element.innerHTML = '';\n",
              "          dataTable['output_type'] = 'display_data';\n",
              "          await google.colab.output.renderOutput(dataTable, element);\n",
              "          const docLink = document.createElement('div');\n",
              "          docLink.innerHTML = docLinkHtml;\n",
              "          element.appendChild(docLink);\n",
              "        }\n",
              "      </script>\n",
              "    </div>\n",
              "  </div>\n",
              "  "
            ]
          },
          "metadata": {},
          "execution_count": 5
        }
      ]
    },
    {
      "cell_type": "code",
      "source": [
        "dat2.shape"
      ],
      "metadata": {
        "colab": {
          "base_uri": "https://localhost:8080/"
        },
        "id": "PdMQTh5Z9w_d",
        "outputId": "d1cd5546-1f99-4e98-d86c-1bc7eb806694"
      },
      "execution_count": 6,
      "outputs": [
        {
          "output_type": "execute_result",
          "data": {
            "text/plain": [
              "(1000, 4)"
            ]
          },
          "metadata": {},
          "execution_count": 6
        }
      ]
    },
    {
      "cell_type": "code",
      "source": [
        "dat2[dat2.id == 2].shape"
      ],
      "metadata": {
        "colab": {
          "base_uri": "https://localhost:8080/"
        },
        "id": "ayPZO0k6_j_A",
        "outputId": "f0ee2819-9dd8-4540-bb62-b296b27ebe80"
      },
      "execution_count": 7,
      "outputs": [
        {
          "output_type": "execute_result",
          "data": {
            "text/plain": [
              "(92, 4)"
            ]
          },
          "metadata": {},
          "execution_count": 7
        }
      ]
    },
    {
      "cell_type": "code",
      "source": [
        "freqcounts = pd.DataFrame({'id': range(1, 11),\n",
        "                           'daily': [np.sum(dat2.loc[dat2['id']==i, 'salecat']=='daily') for i in range(1, 11)],\n",
        "                           'weekly': [np.sum(dat2.loc[dat2['id']==i, 'salecat']=='weekly') for i in range(1, 11)],\n",
        "                           'biweekly': [np.sum(dat2.loc[dat2['id']==i, 'salecat']=='biweekly') for i in range(1, 11)],\n",
        "                           'monthly': [np.sum(dat2.loc[dat2['id']==i, 'salecat']=='monthly') for i in range(1, 11)]})\n",
        "\n",
        "\n",
        "\n"
      ],
      "metadata": {
        "id": "CwQD5lHQ9emN"
      },
      "execution_count": 8,
      "outputs": []
    },
    {
      "cell_type": "code",
      "source": [],
      "metadata": {
        "id": "4KVWCHUT9lxk"
      },
      "execution_count": null,
      "outputs": []
    },
    {
      "cell_type": "code",
      "source": [
        "alpha = np.ones(4)  # hyperparameter for the Dirichlet distribution\n"
      ],
      "metadata": {
        "id": "nb0tnznW9epJ"
      },
      "execution_count": 9,
      "outputs": []
    },
    {
      "cell_type": "code",
      "source": [
        "i = 1  # customer number\n",
        "\n",
        "# Prior distribution: Dir(alpha1 = 1, alpha2 = 1,...)\n",
        "# Posterior dist      Dir(alpha1 = 1+37, alpha2 = 1+52)\n",
        "\n",
        "print(alpha.shape)\n"
      ],
      "metadata": {
        "colab": {
          "base_uri": "https://localhost:8080/"
        },
        "id": "2vq9oYYp9erl",
        "outputId": "48cf3cc3-02d5-4809-8d60-05582c732e66"
      },
      "execution_count": 18,
      "outputs": [
        {
          "output_type": "stream",
          "name": "stdout",
          "text": [
            "(4,)\n"
          ]
        }
      ]
    },
    {
      "cell_type": "code",
      "source": [
        "print(freqcounts.iloc[i,1:4].shape)"
      ],
      "metadata": {
        "colab": {
          "base_uri": "https://localhost:8080/"
        },
        "id": "hg6-R2K39euM",
        "outputId": "1e129e4f-70d8-4f7e-ea2a-647faea8db1e"
      },
      "execution_count": 19,
      "outputs": [
        {
          "output_type": "stream",
          "name": "stdout",
          "text": [
            "(3,)\n"
          ]
        }
      ]
    },
    {
      "cell_type": "code",
      "source": [
        "freqcounts.iloc[i,1:5].head()"
      ],
      "metadata": {
        "colab": {
          "base_uri": "https://localhost:8080/"
        },
        "id": "K64pqyzVtsZX",
        "outputId": "f1933d65-76d3-4d4a-c6a8-4cd26960375d"
      },
      "execution_count": 21,
      "outputs": [
        {
          "output_type": "execute_result",
          "data": {
            "text/plain": [
              "daily       42\n",
              "weekly      41\n",
              "biweekly     7\n",
              "monthly      1\n",
              "Name: 1, dtype: int64"
            ]
          },
          "metadata": {},
          "execution_count": 21
        }
      ]
    },
    {
      "cell_type": "code",
      "source": [
        "freqcounts.shape"
      ],
      "metadata": {
        "colab": {
          "base_uri": "https://localhost:8080/"
        },
        "id": "dBAguvORzZmS",
        "outputId": "be180989-6680-42ab-f146-470f54baa793"
      },
      "execution_count": 22,
      "outputs": [
        {
          "output_type": "execute_result",
          "data": {
            "text/plain": [
              "(10, 5)"
            ]
          },
          "metadata": {},
          "execution_count": 22
        }
      ]
    },
    {
      "cell_type": "code",
      "source": [
        "\n",
        "prop_post = stats.dirichlet.rvs(size=1000, alpha=alpha+freqcounts.iloc[i,1:5])  # 1000 samples from the posterior distribution\n"
      ],
      "metadata": {
        "id": "uB_B2nua7rQx"
      },
      "execution_count": 23,
      "outputs": []
    },
    {
      "cell_type": "code",
      "source": [
        "prop_post.shape"
      ],
      "metadata": {
        "colab": {
          "base_uri": "https://localhost:8080/"
        },
        "id": "uAUpmljjqg2b",
        "outputId": "a3932159-3b70-4a03-d45c-42651b3e2c3b"
      },
      "execution_count": 28,
      "outputs": [
        {
          "output_type": "execute_result",
          "data": {
            "text/plain": [
              "(1000, 4)"
            ]
          },
          "metadata": {},
          "execution_count": 28
        }
      ]
    },
    {
      "cell_type": "code",
      "source": [
        "freqcounts.iloc[i,1:5].head()"
      ],
      "metadata": {
        "colab": {
          "base_uri": "https://localhost:8080/"
        },
        "id": "Oa101Mskqyt8",
        "outputId": "459e1441-b63f-4ab6-ff5c-042f55cc70a7"
      },
      "execution_count": 34,
      "outputs": [
        {
          "output_type": "execute_result",
          "data": {
            "text/plain": [
              "daily       42\n",
              "weekly      41\n",
              "biweekly     7\n",
              "monthly      1\n",
              "Name: 1, dtype: int64"
            ]
          },
          "metadata": {},
          "execution_count": 34
        }
      ]
    },
    {
      "cell_type": "code",
      "source": [
        "freqcounts.iloc[i,1:5].hist()"
      ],
      "metadata": {
        "colab": {
          "base_uri": "https://localhost:8080/",
          "height": 282
        },
        "id": "KHLg1AtUqs6s",
        "outputId": "dbdc64f6-08aa-4603-9402-004142f8b049"
      },
      "execution_count": 32,
      "outputs": [
        {
          "output_type": "execute_result",
          "data": {
            "text/plain": [
              "<Axes: >"
            ]
          },
          "metadata": {},
          "execution_count": 32
        },
        {
          "output_type": "display_data",
          "data": {
            "text/plain": [
              "<Figure size 432x288 with 1 Axes>"
            ],
            "image/png": "[encoded data removed]"
          },
          "metadata": {
            "needs_background": "light"
          }
        }
      ]
    },
    {
      "cell_type": "code",
      "source": [
        "pd.DataFrame(prop_post).hist()"
      ],
      "metadata": {
        "colab": {
          "base_uri": "https://localhost:8080/",
          "height": 333
        },
        "id": "7QhKE_DIqkV5",
        "outputId": "95495fee-d19d-4f6f-d2ac-866380fcfc78"
      },
      "execution_count": 31,
      "outputs": [
        {
          "output_type": "execute_result",
          "data": {
            "text/plain": [
              "array([[<Axes: title={'center': '0'}>, <Axes: title={'center': '1'}>],\n",
              "       [<Axes: title={'center': '2'}>, <Axes: title={'center': '3'}>]],\n",
              "      dtype=object)"
            ]
          },
          "metadata": {},
          "execution_count": 31
        },
        {
          "output_type": "display_data",
          "data": {
            "text/plain": [
              "<Figure size 432x288 with 4 Axes>"
            ],
            "image/png": "[encoded data removed]"
          },
          "metadata": {
            "needs_background": "light"
          }
        }
      ]
    },
    {
      "cell_type": "code",
      "source": [
        "\n",
        "\n",
        "\n",
        "\n",
        "\n",
        "\n",
        "# Cumulative probabilities\n",
        "prop_post_cumul = np.zeros((1000, 3))\n",
        "prop_post_cumul[:, 0] = prop_post[:, 0]  # first column is Daily group only\n",
        "prop_post_cumul[:, 1] = prop_post[:, 0] + prop_post[:, 1]  # second column is Daily group + Weekly group\n",
        "prop_post_cumul[:, 2] = prop_post[:, 0] + prop_post[:, 1] + prop_post[:, 2]  # Third column is Daily + Weekly + Biweekly\n",
        "\n",
        "\n",
        "\n",
        "\n",
        "\n"
      ],
      "metadata": {
        "id": "jOmPgyqUrsWa"
      },
      "execution_count": 24,
      "outputs": []
    },
    {
      "cell_type": "code",
      "source": [
        "prop_post_cumul"
      ],
      "metadata": {
        "colab": {
          "base_uri": "https://localhost:8080/"
        },
        "id": "SDFt9E7q0iip",
        "outputId": "e01c8fb3-1832-4c6c-f670-c154b332ddf4"
      },
      "execution_count": 35,
      "outputs": [
        {
          "output_type": "execute_result",
          "data": {
            "text/plain": [
              "array([[0.47502877, 0.93605336, 0.98764224],\n",
              "       [0.49381873, 0.89701259, 0.99648471],\n",
              "       [0.47951256, 0.92020109, 0.97161671],\n",
              "       ...,\n",
              "       [0.39062988, 0.91691002, 0.99673213],\n",
              "       [0.4297441 , 0.89778131, 0.99221675],\n",
              "       [0.46456715, 0.8940505 , 0.99535741]])"
            ]
          },
          "metadata": {},
          "execution_count": 35
        }
      ]
    },
    {
      "cell_type": "code",
      "source": [
        "  # credible sets for each individual group\n",
        "np.apply_along_axis(lambda x: np.quantile(x, q=[0.025, 0.975]), axis=0, arr=prop_post)"
      ],
      "metadata": {
        "colab": {
          "base_uri": "https://localhost:8080/"
        },
        "id": "nrm_6M3alSZU",
        "outputId": "494ad127-6655-4ad4-9640-04cac303c8eb"
      },
      "execution_count": 25,
      "outputs": [
        {
          "output_type": "execute_result",
          "data": {
            "text/plain": [
              "array([[0.35354091, 0.34515196, 0.0384965 , 0.00290939],\n",
              "       [0.55442388, 0.53920717, 0.14381009, 0.05553169]])"
            ]
          },
          "metadata": {},
          "execution_count": 25
        }
      ]
    },
    {
      "cell_type": "code",
      "source": [
        "c_set_prob = np.apply_along_axis(lambda x: np.quantile(x, q=[0.025, 0.975]), axis=0, arr=prop_post)"
      ],
      "metadata": {
        "id": "RjBPsTlt7X4D"
      },
      "execution_count": 37,
      "outputs": []
    },
    {
      "cell_type": "code",
      "source": [
        "c_set_prob[0,:].sum()"
      ],
      "metadata": {
        "colab": {
          "base_uri": "https://localhost:8080/"
        },
        "id": "iNQHdCdQ7cSd",
        "outputId": "f56d952a-f39e-496f-a0e7-ba2ebb497f54"
      },
      "execution_count": 43,
      "outputs": [
        {
          "output_type": "execute_result",
          "data": {
            "text/plain": [
              "0.7400987652389807"
            ]
          },
          "metadata": {},
          "execution_count": 43
        }
      ]
    },
    {
      "cell_type": "code",
      "source": [
        "np.apply_along_axis(lambda x: np.quantile(x, q=[0.025, 0.975]), axis=0, arr=prop_post_cumul)  # credible sets for cumulative probabilities"
      ],
      "metadata": {
        "colab": {
          "base_uri": "https://localhost:8080/"
        },
        "id": "KHK3gzkalaW2",
        "outputId": "ded74fe1-7f1f-4209-f2f8-b308a0659de5"
      },
      "execution_count": 26,
      "outputs": [
        {
          "output_type": "execute_result",
          "data": {
            "text/plain": [
              "array([[0.35354091, 0.82702052, 0.94446831],\n",
              "       [0.55442388, 0.94607442, 0.99709061]])"
            ]
          },
          "metadata": {},
          "execution_count": 26
        }
      ]
    },
    {
      "cell_type": "code",
      "source": [
        "# I suggest looking at the lower end of the credible set from the cumulative probabilities\n",
        "# Just make sure to order the columns in increasing order from least time (day) to most time (month)"
      ],
      "metadata": {
        "id": "GX11rn3hlacA"
      },
      "execution_count": null,
      "outputs": []
    },
    {
      "cell_type": "code",
      "source": [
        "# Histograms of cumulative probabilities\n",
        "plt.figure(figsize=(10, 8))\n",
        "plt.subplot(2, 2, 1)\n",
        "plt.hist(prop_post_cumul[:, 0], bins=30, density=True)\n",
        "plt.xlabel('p1')\n",
        "plt.title('Daily')\n",
        "plt.axvline(x=np.mean(prop_post_cumul[:, 0]), color='r', linestyle='--')\n",
        "plt.subplot(2, 2, 2)\n",
        "plt.hist(prop_post_cumul[:, 1], bins=30, density=True)\n",
        "plt.xlabel('p1')\n",
        "plt.title('Daily+Weekly')\n",
        "plt.axvline(x=np.mean(prop_post_cumul[:, 1]), color='r', linestyle='--')\n",
        "plt.subplot(2, 2, 3)\n",
        "plt.hist(prop_post_cumul[:, 2], bins=30, density=True)\n",
        "plt.xlabel('p1')\n",
        "plt.title('Daily+Weekly+Biweekly')\n",
        "plt.axvline(x=np.mean(prop_post_cumul[:, 2]), color='r', linestyle='--')\n",
        "plt.tight_layout()\n",
        "plt.show()\n"
      ],
      "metadata": {
        "colab": {
          "base_uri": "https://localhost:8080/",
          "height": 585
        },
        "id": "hNBnKhZXlRMN",
        "outputId": "42b10d92-62db-4f47-da8f-2656b39e607f"
      },
      "execution_count": 27,
      "outputs": [
        {
          "output_type": "display_data",
          "data": {
            "text/plain": [
              "<Figure size 720x576 with 3 Axes>"
            ],
            "image/png": "[encoded data removed]"
          },
          "metadata": {
            "needs_background": "light"
          }
        }
      ]
    }
  ]
}
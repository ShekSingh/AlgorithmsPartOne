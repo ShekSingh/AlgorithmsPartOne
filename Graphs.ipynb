{
  "nbformat": 4,
  "nbformat_minor": 0,
  "metadata": {
    "colab": {
      "provenance": [],
      "authorship_tag": "ABX9TyMKd3G63NwaLKIfMQHkwxNZ",
      "include_colab_link": true
    },
    "kernelspec": {
      "name": "python3",
      "display_name": "Python 3"
    },
    "language_info": {
      "name": "python"
    }
  },
  "cells": [
    {
      "cell_type": "markdown",
      "metadata": {
        "id": "view-in-github",
        "colab_type": "text"
      },
      "source": [
        "<a href=\"https://colab.research.google.com/github/ShekSingh/AlgorithmsPartOne/blob/master/Graphs.ipynb\" target=\"_parent\"><img src=\"https://colab.research.google.com/assets/colab-badge.svg\" alt=\"Open In Colab\"/></a>"
      ]
    },
    {
      "cell_type": "markdown",
      "source": [
        "#DFS"
      ],
      "metadata": {
        "id": "JdQL33KLyDuB"
      }
    },
    {
      "cell_type": "code",
      "execution_count": null,
      "metadata": {
        "colab": {
          "base_uri": "https://localhost:8080/"
        },
        "id": "Z-YPYli9EG_P",
        "outputId": "535dd1f0-a6f3-4ce9-84da-77a552e69e71"
      },
      "outputs": [
        {
          "output_type": "stream",
          "name": "stdout",
          "text": [
            "Following is the Depth-First Search\n",
            "5\n",
            "3\n",
            "2\n",
            "4\n",
            "8\n",
            "7\n"
          ]
        }
      ],
      "source": [
        "#DFS\n",
        "\n",
        "# Using a Python dictionary to act as an adjacency list\n",
        "graph = {\n",
        "  '5' : ['3','7'],\n",
        "  '3' : ['2', '4'],\n",
        "  '7' : ['8'],\n",
        "  '2' : [],\n",
        "  '4' : ['8'],\n",
        "  '8' : []\n",
        "}\n",
        "\n",
        "visited = set() # Set to keep track of visited nodes of graph.\n",
        "\n",
        "def dfs(visited, graph, node):  #function for dfs \n",
        "    if node not in visited:\n",
        "        print (node)\n",
        "        visited.add(node)\n",
        "        for neighbour in graph[node]:\n",
        "            dfs(visited, graph, neighbour)\n",
        "\n",
        "# Driver Code\n",
        "print(\"Following is the Depth-First Search\")\n",
        "dfs(visited, graph, '5')"
      ]
    },
    {
      "cell_type": "markdown",
      "source": [
        "#DFS like they did in class for undirected graph"
      ],
      "metadata": {
        "id": "jNL9igCvyHOE"
      }
    },
    {
      "cell_type": "code",
      "source": [
        "#DFS\n",
        "\n",
        "def dfs_undir(graph):\n",
        "    cc = 0\n",
        "    visited = set()\n",
        "    ccnum = []    \n",
        "    for v in graph:\n",
        "        if v not in visited:\n",
        "            cc+=1\n",
        "            print(\"----\")\n",
        "            print(v)\n",
        "            print(\"----\")\n",
        "            explore(v,graph,cc,ccnum,visited)\n",
        "    print(visited)\n",
        "    return ccnum\n",
        "# Using a Python dictionary to act as an adjacency list\n",
        "\n",
        "def explore(v,graph,cc,ccnum,visited):\n",
        "    ccnum.append({v:cc})\n",
        "    visited.add(v)\n",
        "\n",
        "    for edges in graph[v]:\n",
        "        print(edges)\n",
        "graph = {\n",
        "  '5' : ['3','7'],\n",
        "  '3' : ['2', '4'],\n",
        "  '7' : ['8'],\n",
        "  '2' : [],\n",
        "  '4' : ['8'],\n",
        "  '8' : []\n",
        "}\n",
        "\n",
        "ccnum = dfs_undir(graph)\n",
        "print(\"connected components number \", ccnum)"
      ],
      "metadata": {
        "colab": {
          "base_uri": "https://localhost:8080/"
        },
        "id": "TSykMw7myGdj",
        "outputId": "aa32958c-ab2a-4e54-aa10-798d92f8365a"
      },
      "execution_count": null,
      "outputs": [
        {
          "output_type": "stream",
          "name": "stdout",
          "text": [
            "----\n",
            "5\n",
            "----\n",
            "3\n",
            "7\n",
            "----\n",
            "3\n",
            "----\n",
            "2\n",
            "4\n",
            "----\n",
            "7\n",
            "----\n",
            "8\n",
            "----\n",
            "2\n",
            "----\n",
            "----\n",
            "4\n",
            "----\n",
            "8\n",
            "----\n",
            "8\n",
            "----\n",
            "{'7', '5', '3', '4', '2', '8'}\n",
            "connected components number  [{'5': 1}, {'3': 2}, {'7': 3}, {'2': 4}, {'4': 5}, {'8': 6}]\n"
          ]
        }
      ]
    },
    {
      "cell_type": "markdown",
      "source": [
        "#DFS find path"
      ],
      "metadata": {
        "id": "MD01miJ3I7zK"
      }
    },
    {
      "cell_type": "code",
      "source": [
        "#DFS\n",
        "\n",
        "def dfs_undir(graph,max_vertex):\n",
        "    cc = 0\n",
        "    visited = set()\n",
        "    ccnum = []\n",
        "    prev = []    \n",
        "    for v in graph:\n",
        "        if v not in visited:\n",
        "            cc+=1\n",
        "            print(\"----\")\n",
        "            print(v)\n",
        "            print(\"----\")\n",
        "            ccnum,prev = explore(v,graph,cc,ccnum,visited,prev)\n",
        "          \n",
        "    print(visited)\n",
        "    return ccnum,prev\n",
        "# Using a Python dictionary to act as an adjacency list\n",
        "\n",
        "def explore(v,graph,cc,ccnum,visited,prev):\n",
        "    ccnum.append({v:cc})\n",
        "    visited.add(v)\n",
        "    for edges in graph[v]:\n",
        "        if edges not in visited:\n",
        "            print(edges)\n",
        "            explore(edges,graph,cc,ccnum,visited,prev)\n",
        "            prev.append({edges:v})\n",
        "    return ccnum,prev\n",
        "graph = {\n",
        "  '5' : ['3','7'],\n",
        "  '3' : ['2', '4'],\n",
        "  '7' : ['8'],\n",
        "  '2' : [],\n",
        "  '4' : ['8'],\n",
        "  '8' : []\n",
        "}\n",
        "\n",
        "ccnum,prev = dfs_undir(graph,8)\n",
        "print(\"connected components number \", ccnum)\n",
        "print(\"previous components \", prev)"
      ],
      "metadata": {
        "colab": {
          "base_uri": "https://localhost:8080/"
        },
        "id": "juWyGumdI8A-",
        "outputId": "9631d6dc-c95f-4c35-804d-4e8fab1dfc57"
      },
      "execution_count": null,
      "outputs": [
        {
          "output_type": "stream",
          "name": "stdout",
          "text": [
            "----\n",
            "5\n",
            "----\n",
            "3\n",
            "2\n",
            "4\n",
            "8\n",
            "7\n",
            "{'5', '7', '3', '4', '2', '8'}\n",
            "connected components number  [{'5': 1}, {'3': 1}, {'2': 1}, {'4': 1}, {'8': 1}, {'7': 1}]\n",
            "previous components  [{'2': '3'}, {'8': '4'}, {'4': '3'}, {'3': '5'}, {'7': '5'}]\n"
          ]
        }
      ]
    },
    {
      "cell_type": "markdown",
      "source": [
        "#Undirected Graph with color"
      ],
      "metadata": {
        "id": "MCPAIAHhcpgK"
      }
    }
  ]
}